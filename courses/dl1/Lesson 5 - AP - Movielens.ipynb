{
 "cells": [
  {
   "cell_type": "markdown",
   "metadata": {},
   "source": [
    "# Movielens"
   ]
  },
  {
   "cell_type": "code",
   "execution_count": 1,
   "metadata": {},
   "outputs": [],
   "source": [
    "%reload_ext autoreload\n",
    "%autoreload 2\n",
    "%matplotlib inline\n",
    "\n",
    "from fastai.learner import *\n",
    "from fastai.column_data import *"
   ]
  },
  {
   "cell_type": "markdown",
   "metadata": {},
   "source": [
    "Downloaded data from http://files.grouplens.org/datasets/movielens/ml-latest-small.zip and unzipped"
   ]
  },
  {
   "cell_type": "code",
   "execution_count": 2,
   "metadata": {},
   "outputs": [],
   "source": [
    "path='data/ml-latest-small/'"
   ]
  },
  {
   "cell_type": "code",
   "execution_count": 6,
   "metadata": {},
   "outputs": [
    {
     "data": {
      "text/html": [
       "<div>\n",
       "<style scoped>\n",
       "    .dataframe tbody tr th:only-of-type {\n",
       "        vertical-align: middle;\n",
       "    }\n",
       "\n",
       "    .dataframe tbody tr th {\n",
       "        vertical-align: top;\n",
       "    }\n",
       "\n",
       "    .dataframe thead th {\n",
       "        text-align: right;\n",
       "    }\n",
       "</style>\n",
       "<table border=\"1\" class=\"dataframe\">\n",
       "  <thead>\n",
       "    <tr style=\"text-align: right;\">\n",
       "      <th></th>\n",
       "      <th>userId</th>\n",
       "      <th>movieId</th>\n",
       "      <th>rating</th>\n",
       "      <th>timestamp</th>\n",
       "    </tr>\n",
       "  </thead>\n",
       "  <tbody>\n",
       "    <tr>\n",
       "      <th>0</th>\n",
       "      <td>1</td>\n",
       "      <td>31</td>\n",
       "      <td>2.5</td>\n",
       "      <td>1260759144</td>\n",
       "    </tr>\n",
       "    <tr>\n",
       "      <th>1</th>\n",
       "      <td>1</td>\n",
       "      <td>1029</td>\n",
       "      <td>3.0</td>\n",
       "      <td>1260759179</td>\n",
       "    </tr>\n",
       "    <tr>\n",
       "      <th>2</th>\n",
       "      <td>1</td>\n",
       "      <td>1061</td>\n",
       "      <td>3.0</td>\n",
       "      <td>1260759182</td>\n",
       "    </tr>\n",
       "    <tr>\n",
       "      <th>3</th>\n",
       "      <td>1</td>\n",
       "      <td>1129</td>\n",
       "      <td>2.0</td>\n",
       "      <td>1260759185</td>\n",
       "    </tr>\n",
       "    <tr>\n",
       "      <th>4</th>\n",
       "      <td>1</td>\n",
       "      <td>1172</td>\n",
       "      <td>4.0</td>\n",
       "      <td>1260759205</td>\n",
       "    </tr>\n",
       "  </tbody>\n",
       "</table>\n",
       "</div>"
      ],
      "text/plain": [
       "   userId  movieId  rating   timestamp\n",
       "0       1       31     2.5  1260759144\n",
       "1       1     1029     3.0  1260759179\n",
       "2       1     1061     3.0  1260759182\n",
       "3       1     1129     2.0  1260759185\n",
       "4       1     1172     4.0  1260759205"
      ]
     },
     "execution_count": 6,
     "metadata": {},
     "output_type": "execute_result"
    }
   ],
   "source": [
    "ratings = pd.read_csv(path+'ratings.csv')\n",
    "ratings.head()"
   ]
  },
  {
   "cell_type": "code",
   "execution_count": 7,
   "metadata": {},
   "outputs": [
    {
     "data": {
      "text/html": [
       "<div>\n",
       "<style scoped>\n",
       "    .dataframe tbody tr th:only-of-type {\n",
       "        vertical-align: middle;\n",
       "    }\n",
       "\n",
       "    .dataframe tbody tr th {\n",
       "        vertical-align: top;\n",
       "    }\n",
       "\n",
       "    .dataframe thead th {\n",
       "        text-align: right;\n",
       "    }\n",
       "</style>\n",
       "<table border=\"1\" class=\"dataframe\">\n",
       "  <thead>\n",
       "    <tr style=\"text-align: right;\">\n",
       "      <th></th>\n",
       "      <th>movieId</th>\n",
       "      <th>title</th>\n",
       "      <th>genres</th>\n",
       "    </tr>\n",
       "  </thead>\n",
       "  <tbody>\n",
       "    <tr>\n",
       "      <th>0</th>\n",
       "      <td>1</td>\n",
       "      <td>Toy Story (1995)</td>\n",
       "      <td>Adventure|Animation|Children|Comedy|Fantasy</td>\n",
       "    </tr>\n",
       "    <tr>\n",
       "      <th>1</th>\n",
       "      <td>2</td>\n",
       "      <td>Jumanji (1995)</td>\n",
       "      <td>Adventure|Children|Fantasy</td>\n",
       "    </tr>\n",
       "    <tr>\n",
       "      <th>2</th>\n",
       "      <td>3</td>\n",
       "      <td>Grumpier Old Men (1995)</td>\n",
       "      <td>Comedy|Romance</td>\n",
       "    </tr>\n",
       "    <tr>\n",
       "      <th>3</th>\n",
       "      <td>4</td>\n",
       "      <td>Waiting to Exhale (1995)</td>\n",
       "      <td>Comedy|Drama|Romance</td>\n",
       "    </tr>\n",
       "    <tr>\n",
       "      <th>4</th>\n",
       "      <td>5</td>\n",
       "      <td>Father of the Bride Part II (1995)</td>\n",
       "      <td>Comedy</td>\n",
       "    </tr>\n",
       "  </tbody>\n",
       "</table>\n",
       "</div>"
      ],
      "text/plain": [
       "   movieId                               title  \\\n",
       "0        1                    Toy Story (1995)   \n",
       "1        2                      Jumanji (1995)   \n",
       "2        3             Grumpier Old Men (1995)   \n",
       "3        4            Waiting to Exhale (1995)   \n",
       "4        5  Father of the Bride Part II (1995)   \n",
       "\n",
       "                                        genres  \n",
       "0  Adventure|Animation|Children|Comedy|Fantasy  \n",
       "1                   Adventure|Children|Fantasy  \n",
       "2                               Comedy|Romance  \n",
       "3                         Comedy|Drama|Romance  \n",
       "4                                       Comedy  "
      ]
     },
     "execution_count": 7,
     "metadata": {},
     "output_type": "execute_result"
    }
   ],
   "source": [
    "movies = pd.read_csv(path + 'movies.csv')\n",
    "movies.head()"
   ]
  },
  {
   "cell_type": "code",
   "execution_count": 8,
   "metadata": {},
   "outputs": [],
   "source": [
    "val_idxs = get_cv_idxs(len(ratings))\n",
    "weight_decay = 2e-4\n",
    "n_factors = 50"
   ]
  },
  {
   "cell_type": "code",
   "execution_count": 9,
   "metadata": {},
   "outputs": [],
   "source": [
    "cf = CollabFilterDataset.from_csv(path, 'ratings.csv', 'userId', 'movieId', 'rating')\n",
    "learn = cf.get_learner(n_factors, val_idxs, 64, opt_fn=optim.Adam)"
   ]
  },
  {
   "cell_type": "code",
   "execution_count": 12,
   "metadata": {},
   "outputs": [
    {
     "data": {
      "application/vnd.jupyter.widget-view+json": {
       "model_id": "1433f9a5e580412ea248e1ff9eb004e6",
       "version_major": 2,
       "version_minor": 0
      },
      "text/plain": [
       "HBox(children=(IntProgress(value=0, description='Epoch', max=3), HTML(value='')))"
      ]
     },
     "metadata": {},
     "output_type": "display_data"
    },
    {
     "name": "stdout",
     "output_type": "stream",
     "text": [
      "epoch      trn_loss   val_loss                                  \n",
      "    0      0.753395   0.778629  \n",
      "    1      0.759393   0.779605                                  \n",
      "    2      0.547174   0.765967                                  \n",
      "\n"
     ]
    },
    {
     "data": {
      "text/plain": [
       "[array([0.76597])]"
      ]
     },
     "execution_count": 12,
     "metadata": {},
     "output_type": "execute_result"
    }
   ],
   "source": [
    "learn.fit(1e-2, 2, wds=weight_decay, cycle_len=1, cycle_mult=2)"
   ]
  },
  {
   "cell_type": "code",
   "execution_count": 15,
   "metadata": {},
   "outputs": [
    {
     "data": {
      "text/plain": [
       "0.8751954067521149"
      ]
     },
     "execution_count": 15,
     "metadata": {},
     "output_type": "execute_result"
    }
   ],
   "source": [
    "math.sqrt(0.765967) # MSE -> RMSE"
   ]
  },
  {
   "cell_type": "code",
   "execution_count": 16,
   "metadata": {},
   "outputs": [],
   "source": [
    "preds = learn.predict()"
   ]
  },
  {
   "cell_type": "code",
   "execution_count": 18,
   "metadata": {},
   "outputs": [
    {
     "name": "stderr",
     "output_type": "stream",
     "text": [
      "/home/paperspace/anaconda3/envs/fastai/lib/python3.6/site-packages/matplotlib/axes/_axes.py:6462: UserWarning: The 'normed' kwarg is deprecated, and has been replaced by the 'density' kwarg.\n",
      "  warnings.warn(\"The 'normed' kwarg is deprecated, and has been \"\n",
      "/home/paperspace/anaconda3/envs/fastai/lib/python3.6/site-packages/matplotlib/axes/_axes.py:6462: UserWarning: The 'normed' kwarg is deprecated, and has been replaced by the 'density' kwarg.\n",
      "  warnings.warn(\"The 'normed' kwarg is deprecated, and has been \"\n"
     ]
    },
    {
     "data": {
      "text/plain": [
       "<seaborn.axisgrid.JointGrid at 0x7f8239a800b8>"
      ]
     },
     "execution_count": 18,
     "metadata": {},
     "output_type": "execute_result"
    },
    {
     "data": {
      "image/png": "[encoded data removed]",
      "text/plain": [
       "<Figure size 432x432 with 3 Axes>"
      ]
     },
     "metadata": {},
     "output_type": "display_data"
    }
   ],
   "source": [
    "y = learn.data.val_y\n",
    "sns.jointplot(preds, y, kind='hex', stat_func=None)"
   ]
  },
  {
   "cell_type": "markdown",
   "metadata": {},
   "source": [
    "## Results"
   ]
  },
  {
   "cell_type": "markdown",
   "metadata": {},
   "source": [
    "### Movie bias"
   ]
  },
  {
   "cell_type": "code",
   "execution_count": 20,
   "metadata": {},
   "outputs": [],
   "source": [
    "movie_names = movies.set_index('movieId')['title'].to_dict()\n",
    "grouped_ratings = ratings.groupby('movieId')['rating'].count()\n",
    "top_movies = grouped_ratings.sort_values(ascending=False).index.values[:3000]\n",
    "top_movie_indexes = np.array([cf.item2idx[o] for o in top_movies])"
   ]
  },
  {
   "cell_type": "code",
   "execution_count": 22,
   "metadata": {},
   "outputs": [
    {
     "data": {
      "text/plain": [
       "EmbeddingDotBias(\n",
       "  (u): Embedding(671, 50)\n",
       "  (i): Embedding(9066, 50)\n",
       "  (ub): Embedding(671, 1)\n",
       "  (ib): Embedding(9066, 1)\n",
       ")"
      ]
     },
     "execution_count": 22,
     "metadata": {},
     "output_type": "execute_result"
    }
   ],
   "source": [
    "model = learn.model\n",
    "model.cuda()"
   ]
  },
  {
   "cell_type": "code",
   "execution_count": 23,
   "metadata": {},
   "outputs": [],
   "source": [
    "movie_bias = to_np(model.ib(V(top_movie_indexes)))"
   ]
  },
  {
   "cell_type": "code",
   "execution_count": 24,
   "metadata": {},
   "outputs": [
    {
     "data": {
      "text/plain": [
       "array([[ 0.76947],\n",
       "       [ 0.8665 ],\n",
       "       [ 1.31396],\n",
       "       ...,\n",
       "       [ 0.3117 ],\n",
       "       [-0.04307],\n",
       "       [ 0.20276]], dtype=float32)"
      ]
     },
     "execution_count": 24,
     "metadata": {},
     "output_type": "execute_result"
    }
   ],
   "source": [
    "movie_bias"
   ]
  },
  {
   "cell_type": "code",
   "execution_count": 26,
   "metadata": {},
   "outputs": [],
   "source": [
    "movie_ratings = [(bias[0], movie_names[movie_index]) for movie_index, bias in zip(top_movies, movie_bias)]"
   ]
  },
  {
   "cell_type": "code",
   "execution_count": 28,
   "metadata": {},
   "outputs": [
    {
     "data": {
      "text/plain": [
       "[(-1.0776231, 'Battlefield Earth (2000)'),\n",
       " (-0.86673975, 'Speed 2: Cruise Control (1997)'),\n",
       " (-0.8662862, 'Wild Wild West (1999)'),\n",
       " (-0.86360186, 'Anaconda (1997)'),\n",
       " (-0.7997283, 'Super Mario Bros. (1993)'),\n",
       " (-0.7814877, 'Police Academy 5: Assignment: Miami Beach (1988)'),\n",
       " (-0.74982935, 'Hollow Man (2000)'),\n",
       " (-0.7296861, 'Mighty Morphin Power Rangers: The Movie (1995)'),\n",
       " (-0.7223648, 'Police Academy 3: Back in Training (1986)'),\n",
       " (-0.7106202, 'Little Nicky (2000)'),\n",
       " (-0.7065485, 'Superman III (1983)'),\n",
       " (-0.6938987, 'Bio-Dome (1996)'),\n",
       " (-0.6899674, 'Batman & Robin (1997)'),\n",
       " (-0.6886244, 'Godzilla (1998)'),\n",
       " (-0.68608236, 'Jaws 3-D (1983)')]"
      ]
     },
     "execution_count": 28,
     "metadata": {},
     "output_type": "execute_result"
    }
   ],
   "source": [
    "sorted(movie_ratings, key=lambda o: o[0])[:15] # could also use itemgetter(0)"
   ]
  },
  {
   "cell_type": "code",
   "execution_count": 29,
   "metadata": {},
   "outputs": [
    {
     "data": {
      "text/plain": [
       "[(1.3139635, 'Shawshank Redemption, The (1994)'),\n",
       " (1.2636778, 'Godfather, The (1972)'),\n",
       " (1.123217, 'Usual Suspects, The (1995)'),\n",
       " (1.0288458, 'Godfather: Part II, The (1974)'),\n",
       " (0.97319937, 'Memento (2000)'),\n",
       " (0.9611202, 'Fargo (1996)'),\n",
       " (0.91683507, 'Princess Bride, The (1987)'),\n",
       " (0.90784216, 'Rear Window (1954)'),\n",
       " (0.89741546, \"Schindler's List (1993)\"),\n",
       " (0.89697903, 'Star Wars: Episode IV - A New Hope (1977)'),\n",
       " (0.88192046, '12 Angry Men (1957)'),\n",
       " (0.88017416, 'African Queen, The (1951)'),\n",
       " (0.876146, 'Dark Knight, The (2008)'),\n",
       " (0.8665023, 'Pulp Fiction (1994)'),\n",
       " (0.86631507, 'Lord of the Rings: The Return of the King, The (2003)')]"
      ]
     },
     "execution_count": 29,
     "metadata": {},
     "output_type": "execute_result"
    }
   ],
   "source": [
    "sorted(movie_ratings, key=itemgetter(0), reverse=True)[:15]"
   ]
  },
  {
   "cell_type": "markdown",
   "metadata": {},
   "source": [
    "### Embeddings"
   ]
  },
  {
   "cell_type": "code",
   "execution_count": 30,
   "metadata": {},
   "outputs": [],
   "source": [
    "movie_embeddings = to_np(model.i(V(top_movie_indexes)))"
   ]
  },
  {
   "cell_type": "code",
   "execution_count": 32,
   "metadata": {},
   "outputs": [
    {
     "data": {
      "text/plain": [
       "(3000, 50)"
      ]
     },
     "execution_count": 32,
     "metadata": {},
     "output_type": "execute_result"
    }
   ],
   "source": [
    "movie_embeddings.shape"
   ]
  },
  {
   "cell_type": "markdown",
   "metadata": {},
   "source": [
    "Use principal component analysis to reduce dimensionality of the embedding matrix to make it easier to reason about"
   ]
  },
  {
   "cell_type": "code",
   "execution_count": 33,
   "metadata": {},
   "outputs": [],
   "source": [
    "from sklearn.decomposition import PCA\n",
    "pca = PCA(n_components=3)\n",
    "movie_pca = pca.fit(movie_embeddings.T).components_"
   ]
  },
  {
   "cell_type": "code",
   "execution_count": 34,
   "metadata": {},
   "outputs": [
    {
     "data": {
      "text/plain": [
       "(3, 3000)"
      ]
     },
     "execution_count": 34,
     "metadata": {},
     "output_type": "execute_result"
    }
   ],
   "source": [
    "movie_pca.shape"
   ]
  },
  {
   "cell_type": "code",
   "execution_count": 35,
   "metadata": {},
   "outputs": [],
   "source": [
    "movie_components = [(factor, movie_names[index]) for factor, index in zip(movie_pca[0], top_movies)]"
   ]
  },
  {
   "cell_type": "code",
   "execution_count": 36,
   "metadata": {},
   "outputs": [
    {
     "data": {
      "text/plain": [
       "[(-0.08435461, 'Armageddon (1998)'),\n",
       " (-0.080589935, 'Independence Day (a.k.a. ID4) (1996)'),\n",
       " (-0.06803209, 'Waterworld (1995)'),\n",
       " (-0.063456625, 'Coyote Ugly (2000)'),\n",
       " (-0.063263856, 'Lethal Weapon 4 (1998)'),\n",
       " (-0.061362047, 'Outbreak (1995)'),\n",
       " (-0.056602996, 'Pay It Forward (2000)'),\n",
       " (-0.055233374, 'Mission: Impossible II (2000)'),\n",
       " (-0.054409314, 'Police Academy 4: Citizens on Patrol (1987)'),\n",
       " (-0.053334586, 'Entrapment (1999)')]"
      ]
     },
     "execution_count": 36,
     "metadata": {},
     "output_type": "execute_result"
    }
   ],
   "source": [
    "sorted(movie_components, key=itemgetter(0))[:10]"
   ]
  },
  {
   "cell_type": "code",
   "execution_count": 37,
   "metadata": {},
   "outputs": [
    {
     "data": {
      "text/plain": [
       "[(0.074797146, 'Pulp Fiction (1994)'),\n",
       " (0.07391271, 'Chinatown (1974)'),\n",
       " (0.07028457, 'Fargo (1996)'),\n",
       " (0.06443806, 'Taxi Driver (1976)'),\n",
       " (0.06387303, 'Apocalypse Now (1979)'),\n",
       " (0.06152945, 'Airplane! (1980)'),\n",
       " (0.059254516, 'Deer Hunter, The (1978)'),\n",
       " (0.058278184, 'Vertigo (1958)'),\n",
       " (0.057062283, \"One Flew Over the Cuckoo's Nest (1975)\"),\n",
       " (0.056787416, 'North by Northwest (1959)')]"
      ]
     },
     "execution_count": 37,
     "metadata": {},
     "output_type": "execute_result"
    }
   ],
   "source": [
    "sorted(movie_components, key=itemgetter(0), reverse=True)[:10]"
   ]
  },
  {
   "cell_type": "code",
   "execution_count": 38,
   "metadata": {},
   "outputs": [
    {
     "data": {
      "text/plain": [
       "[[(-0.07425137, 'Clue (1985)'),\n",
       "  (-0.06742827, 'American Pie (1999)'),\n",
       "  (-0.06737286, 'Office Space (1999)'),\n",
       "  (-0.067068085, 'Chasing Amy (1997)'),\n",
       "  (-0.06613617, 'Mr. & Mrs. Smith (2005)'),\n",
       "  (-0.06594085, 'Austin Powers: International Man of Mystery (1997)'),\n",
       "  (-0.06512271, 'Dark Knight, The (2008)'),\n",
       "  (-0.06177146, 'Man Who Knew Too Little, The (1997)'),\n",
       "  (-0.060744617, 'Mission: Impossible (1996)'),\n",
       "  (-0.060646445, 'Scream (1996)')],\n",
       " [(0.0631004, 'Little Miss Sunshine (2006)'),\n",
       "  (0.059490576, 'Slumdog Millionaire (2008)'),\n",
       "  (0.05860042, 'The Imitation Game (2014)'),\n",
       "  (0.05680472, 'Thomas Crown Affair, The (1999)'),\n",
       "  (0.05630737, 'Great Dictator, The (1940)'),\n",
       "  (0.055655085,\n",
       "   'Triplets of Belleville, The (Les triplettes de Belleville) (2003)'),\n",
       "  (0.055449236, 'Grand Budapest Hotel, The (2014)'),\n",
       "  (0.052648142, 'Like Water for Chocolate (Como agua para chocolate) (1992)'),\n",
       "  (0.052594934, 'In Bruges (2008)'),\n",
       "  (0.05219281, 'Piano, The (1993)')]]"
      ]
     },
     "execution_count": 38,
     "metadata": {},
     "output_type": "execute_result"
    }
   ],
   "source": [
    "movie_components = [(factor, movie_names[index]) for factor, index in zip(movie_pca[1], top_movies)]\n",
    "[\n",
    "    sorted(movie_components, key=itemgetter(0))[:10],\n",
    "    sorted(movie_components, key=itemgetter(0), reverse=True)[:10]\n",
    "]"
   ]
  },
  {
   "cell_type": "code",
   "execution_count": 39,
   "metadata": {},
   "outputs": [
    {
     "data": {
      "text/plain": [
       "[[(-0.053616084, 'Space Jam (1996)'),\n",
       "  (-0.050295167, 'Thin Red Line, The (1998)'),\n",
       "  (-0.049719643, 'Transformers: Dark of the Moon (2011)'),\n",
       "  (-0.049155172, \"Joe's Apartment (1996)\"),\n",
       "  (-0.048558645, 'Lost Highway (1997)'),\n",
       "  (-0.048389602, 'Leaving Las Vegas (1995)'),\n",
       "  (-0.047259744, 'Scary Movie (2000)'),\n",
       "  (-0.045740098, 'Howard the Duck (1986)'),\n",
       "  (-0.04526269, \"Singin' in the Rain (1952)\"),\n",
       "  (-0.04509039, 'Home Alone 2: Lost in New York (1992)')],\n",
       " [(0.11577925, 'Aladdin (1992)'),\n",
       "  (0.10673451,\n",
       "   'Raiders of the Lost Ark (Indiana Jones and the Raiders of the Lost Ark) (1981)'),\n",
       "  (0.09471527, 'Austin Powers: The Spy Who Shagged Me (1999)'),\n",
       "  (0.094142534, 'Lord of the Rings: The Return of the King, The (2003)'),\n",
       "  (0.08480868, 'Lord of the Rings: The Two Towers, The (2002)'),\n",
       "  (0.08162993, 'Star Wars: Episode IV - A New Hope (1977)'),\n",
       "  (0.080238424, 'Star Wars: Episode V - The Empire Strikes Back (1980)'),\n",
       "  (0.080206774, 'Star Wars: Episode VI - Return of the Jedi (1983)'),\n",
       "  (0.07831497, 'Lord of the Rings: The Fellowship of the Ring, The (2001)'),\n",
       "  (0.076175496, 'Shrek (2001)')]]"
      ]
     },
     "execution_count": 39,
     "metadata": {},
     "output_type": "execute_result"
    }
   ],
   "source": [
    "movie_components = [(factor, movie_names[index]) for factor, index in zip(movie_pca[2], top_movies)]\n",
    "[\n",
    "    sorted(movie_components, key=itemgetter(0))[:10],\n",
    "    sorted(movie_components, key=itemgetter(0), reverse=True)[:10]\n",
    "]"
   ]
  },
  {
   "cell_type": "code",
   "execution_count": 43,
   "metadata": {},
   "outputs": [
    {
     "data": {
      "image/png": "[encoded data removed]",
      "text/plain": [
       "<Figure size 1080x1080 with 1 Axes>"
      ]
     },
     "metadata": {},
     "output_type": "display_data"
    }
   ],
   "source": [
    "idxs = np.random.choice(len(top_movies), 50, replace=False)\n",
    "X = movie_pca[0][idxs]\n",
    "Y = movie_pca[2][idxs]\n",
    "plt.figure(figsize=(15,15))\n",
    "plt.scatter(X, Y)\n",
    "for i, x, y in zip(top_movies[idxs], X, Y):\n",
    "    plt.text(x,y,movie_names[i], color=np.random.rand(3)*0.7, fontsize=11)\n",
    "plt.show()"
   ]
  },
  {
   "cell_type": "markdown",
   "metadata": {},
   "source": [
    "## Writing from scratch"
   ]
  },
  {
   "cell_type": "markdown",
   "metadata": {},
   "source": [
    "### Dot product example"
   ]
  },
  {
   "cell_type": "code",
   "execution_count": 44,
   "metadata": {},
   "outputs": [
    {
     "data": {
      "text/plain": [
       "(\n",
       "  1  2\n",
       "  3  4\n",
       " [torch.cuda.FloatTensor of size 2x2 (GPU 0)], \n",
       "   2   2\n",
       "  10  10\n",
       " [torch.cuda.FloatTensor of size 2x2 (GPU 0)])"
      ]
     },
     "execution_count": 44,
     "metadata": {},
     "output_type": "execute_result"
    }
   ],
   "source": [
    "a = T([[1., 2], [3, 4]])\n",
    "b = T([[2., 2], [10, 10]])\n",
    "a, b"
   ]
  },
  {
   "cell_type": "code",
   "execution_count": 45,
   "metadata": {},
   "outputs": [
    {
     "data": {
      "text/plain": [
       "\n",
       "  2   4\n",
       " 30  40\n",
       "[torch.cuda.FloatTensor of size 2x2 (GPU 0)]"
      ]
     },
     "execution_count": 45,
     "metadata": {},
     "output_type": "execute_result"
    }
   ],
   "source": [
    "a * b"
   ]
  },
  {
   "cell_type": "code",
   "execution_count": 46,
   "metadata": {},
   "outputs": [
    {
     "data": {
      "text/plain": [
       "\n",
       "  6\n",
       " 70\n",
       "[torch.cuda.FloatTensor of size 2 (GPU 0)]"
      ]
     },
     "execution_count": 46,
     "metadata": {},
     "output_type": "execute_result"
    }
   ],
   "source": [
    "(a * b).sum(1)"
   ]
  },
  {
   "cell_type": "code",
   "execution_count": 47,
   "metadata": {},
   "outputs": [],
   "source": [
    "class DotProduct(nn.Module):\n",
    "    def forward(self, users, items): return (users * items).sum(1)"
   ]
  },
  {
   "cell_type": "code",
   "execution_count": 48,
   "metadata": {},
   "outputs": [],
   "source": [
    "model = DotProduct()"
   ]
  },
  {
   "cell_type": "code",
   "execution_count": 49,
   "metadata": {},
   "outputs": [
    {
     "data": {
      "text/plain": [
       "\n",
       "  6\n",
       " 70\n",
       "[torch.cuda.FloatTensor of size 2 (GPU 0)]"
      ]
     },
     "execution_count": 49,
     "metadata": {},
     "output_type": "execute_result"
    }
   ],
   "source": [
    "model(a, b)"
   ]
  },
  {
   "cell_type": "markdown",
   "metadata": {},
   "source": [
    "### Dot product model"
   ]
  },
  {
   "cell_type": "code",
   "execution_count": 56,
   "metadata": {},
   "outputs": [],
   "source": [
    "u_uniq = ratings.userId.unique()\n",
    "user2idx = { user: index for index, user in enumerate(u_uniq) }\n",
    "ratings.userId = ratings.userId.apply(lambda u: user2idx[u])\n",
    "\n",
    "m_uniq = ratings.movieId.unique()\n",
    "movie2idx = { movie: index for index, movie in enumerate(m_uniq) }\n",
    "ratings.movieId = ratings.movieId.apply(lambda m: movie2idx[m])\n",
    "\n",
    "n_users = int(ratings.userId.nunique())\n",
    "n_movies = int(ratings.movieId.nunique())"
   ]
  },
  {
   "cell_type": "code",
   "execution_count": 73,
   "metadata": {},
   "outputs": [],
   "source": [
    "class EmbeddingDot(nn.Module):\n",
    "    def __init__(self, n_users, n_items):\n",
    "        super().__init__()\n",
    "        self.user_embedding = nn.Embedding(n_users, n_factors)\n",
    "        self.item_embedding = nn.Embedding(n_items, n_factors)\n",
    "        self.user_embedding.weight.data.uniform_(0, 0.05)\n",
    "        self.item_embedding.weight.data.uniform_(0, 0.05)\n",
    "        \n",
    "    def forward(self, categorical, continuous):\n",
    "        users = self.user_embedding(categorical[:, 0])\n",
    "        items = self.item_embedding(categorical[:, 1])\n",
    "        # https://pytorch.org/docs/stable/tensors.html#torch.Tensor.view\n",
    "        # => create tensor of dimensions [N, 1]\n",
    "        return (users * items).sum(1).view(-1, 1)"
   ]
  },
  {
   "cell_type": "code",
   "execution_count": 74,
   "metadata": {},
   "outputs": [],
   "source": [
    "x = ratings.drop(['rating', 'timestamp'], axis=1)\n",
    "y = ratings['rating'].astype(np.float32)"
   ]
  },
  {
   "cell_type": "code",
   "execution_count": 75,
   "metadata": {},
   "outputs": [],
   "source": [
    "data = ColumnarModelData.from_data_frame(path, val_idxs, x, y, ['userId', 'movieId'], 64)"
   ]
  },
  {
   "cell_type": "code",
   "execution_count": 76,
   "metadata": {},
   "outputs": [],
   "source": [
    "weight_decay = 1e-5\n",
    "model = EmbeddingDot(n_users, n_movies).cuda()\n",
    "optimization_function = optim.SGD(model.parameters(), 1e-1, weight_decay=weight_decay, momentum=0.9)"
   ]
  },
  {
   "cell_type": "code",
   "execution_count": 77,
   "metadata": {},
   "outputs": [
    {
     "data": {
      "application/vnd.jupyter.widget-view+json": {
       "model_id": "a52c813adce5456ba6563bc566115efe",
       "version_major": 2,
       "version_minor": 0
      },
      "text/plain": [
       "HBox(children=(IntProgress(value=0, description='Epoch', max=3), HTML(value='')))"
      ]
     },
     "metadata": {},
     "output_type": "display_data"
    },
    {
     "name": "stdout",
     "output_type": "stream",
     "text": [
      "epoch      trn_loss   val_loss                                 \n",
      "    0      1.637472   1.630921  \n",
      "    1      1.119543   1.296283                                 \n",
      "    2      0.944328   1.233082                                  \n",
      "\n"
     ]
    },
    {
     "data": {
      "text/plain": [
       "[array([1.23308])]"
      ]
     },
     "execution_count": 77,
     "metadata": {},
     "output_type": "execute_result"
    }
   ],
   "source": [
    "fit(model, data, 3, optimization_function, F.mse_loss)"
   ]
  },
  {
   "cell_type": "code",
   "execution_count": 78,
   "metadata": {},
   "outputs": [],
   "source": [
    "set_lrs(optimization_function, 0.01)"
   ]
  },
  {
   "cell_type": "code",
   "execution_count": 79,
   "metadata": {},
   "outputs": [
    {
     "data": {
      "application/vnd.jupyter.widget-view+json": {
       "model_id": "327ccc5908294bb78afd258682b8a997",
       "version_major": 2,
       "version_minor": 0
      },
      "text/plain": [
       "HBox(children=(IntProgress(value=0, description='Epoch', max=3), HTML(value='')))"
      ]
     },
     "metadata": {},
     "output_type": "display_data"
    },
    {
     "name": "stdout",
     "output_type": "stream",
     "text": [
      "epoch      trn_loss   val_loss                                  \n",
      "    0      0.745415   1.146078  \n",
      "    1      0.703061   1.134854                                  \n",
      "    2      0.690856   1.129812                                  \n",
      "\n"
     ]
    },
    {
     "data": {
      "text/plain": [
       "[array([1.12981])]"
      ]
     },
     "execution_count": 79,
     "metadata": {},
     "output_type": "execute_result"
    }
   ],
   "source": [
    "fit(model, data, 3, optimization_function, F.mse_loss)"
   ]
  },
  {
   "cell_type": "markdown",
   "metadata": {},
   "source": [
    "### Bias"
   ]
  },
  {
   "cell_type": "code",
   "execution_count": 80,
   "metadata": {},
   "outputs": [
    {
     "data": {
      "text/plain": [
       "(0.5, 5.0)"
      ]
     },
     "execution_count": 80,
     "metadata": {},
     "output_type": "execute_result"
    }
   ],
   "source": [
    "min_rating = ratings.rating.min()\n",
    "max_rating = ratings.rating.max()\n",
    "min_rating, max_rating"
   ]
  },
  {
   "cell_type": "code",
   "execution_count": 84,
   "metadata": {},
   "outputs": [],
   "source": [
    "def get_embedding(num_embeddings, embedding_dim):\n",
    "    embedding = nn.Embedding(num_embeddings, embedding_dim)\n",
    "    embedding.weight.data.uniform_(-0.01, 0.01)\n",
    "    return embedding\n",
    "\n",
    "class EmbeddingDotBias(nn.Module):\n",
    "    def __init__(self, n_users, n_items):\n",
    "        super().__init__()\n",
    "        self.user_embedding = get_embedding(n_users, n_factors)\n",
    "        self.item_embedding = get_embedding(n_items, n_factors)\n",
    "        self.user_bias = get_embedding(n_users, 1)\n",
    "        self.item_bias = get_embedding(n_items, 1)\n",
    "\n",
    "    def forward(self, cats, conts):\n",
    "        users = cats[:,0]\n",
    "        items = cats[:,1]\n",
    "        dot_product = (self.user_embedding(users) * self.item_embedding(items)).sum(1)\n",
    "        result = dot_product + self.user_bias(users).squeeze() + self.item_bias(items).squeeze()\n",
    "        result = F.sigmoid(result) * (max_rating - min_rating) + min_rating\n",
    "        return result.view(-1, 1)"
   ]
  },
  {
   "cell_type": "code",
   "execution_count": 85,
   "metadata": {},
   "outputs": [],
   "source": [
    "weight_decay = 2e-4\n",
    "model = EmbeddingDotBias(cf.n_users, cf.n_items).cuda()\n",
    "optimization_function = optim.SGD(model.parameters(), 1e-1, weight_decay=weight_decay, momentum=0.9)"
   ]
  },
  {
   "cell_type": "code",
   "execution_count": 86,
   "metadata": {},
   "outputs": [
    {
     "data": {
      "application/vnd.jupyter.widget-view+json": {
       "model_id": "c372ba7013e440e2941665c3cbe04793",
       "version_major": 2,
       "version_minor": 0
      },
      "text/plain": [
       "HBox(children=(IntProgress(value=0, description='Epoch', max=3), HTML(value='')))"
      ]
     },
     "metadata": {},
     "output_type": "display_data"
    },
    {
     "name": "stdout",
     "output_type": "stream",
     "text": [
      "epoch      trn_loss   val_loss                                  \n",
      "    0      0.835574   0.837854  \n",
      "    1      0.814447   0.819242                                  \n",
      "    2      0.761914   0.809945                                  \n",
      "\n"
     ]
    },
    {
     "data": {
      "text/plain": [
       "[array([0.80994])]"
      ]
     },
     "execution_count": 86,
     "metadata": {},
     "output_type": "execute_result"
    }
   ],
   "source": [
    "fit(model, data, 3, optimization_function, F.mse_loss)"
   ]
  },
  {
   "cell_type": "code",
   "execution_count": 87,
   "metadata": {},
   "outputs": [],
   "source": [
    "set_lrs(optimization_function, 1e-2)"
   ]
  },
  {
   "cell_type": "code",
   "execution_count": 88,
   "metadata": {},
   "outputs": [
    {
     "data": {
      "application/vnd.jupyter.widget-view+json": {
       "model_id": "a36221dcbf5d4eb78f38e851e2b9b983",
       "version_major": 2,
       "version_minor": 0
      },
      "text/plain": [
       "HBox(children=(IntProgress(value=0, description='Epoch', max=3), HTML(value='')))"
      ]
     },
     "metadata": {},
     "output_type": "display_data"
    },
    {
     "name": "stdout",
     "output_type": "stream",
     "text": [
      "epoch      trn_loss   val_loss                                  \n",
      "    0      0.745315   0.801815  \n",
      "    1      0.72043    0.800656                                  \n",
      "    2      0.75119    0.800133                                  \n",
      "\n"
     ]
    },
    {
     "data": {
      "text/plain": [
       "[array([0.80013])]"
      ]
     },
     "execution_count": 88,
     "metadata": {},
     "output_type": "execute_result"
    }
   ],
   "source": [
    "fit(model, data, 3, optimization_function, F.mse_loss)"
   ]
  },
  {
   "cell_type": "markdown",
   "metadata": {},
   "source": [
    "## Mini net"
   ]
  },
  {
   "cell_type": "code",
   "execution_count": 104,
   "metadata": {},
   "outputs": [],
   "source": [
    "# class EmbeddingNet(nn.Module):\n",
    "#     def __init__(self, num_users, num_items, num_hidden_layers=10, dropout_1=0.05, dropout_2=0.5):\n",
    "#         super().__init__()\n",
    "#         self.users = get_embedding(num_users, n_factors)\n",
    "#         self.items = get_embedding(num_items, n_factors)\n",
    "#         self.layers = {}\n",
    "#         self.layers['linear_1'] = nn.Linear(n_factors * 2, num_hidden_layers)\n",
    "#         self.layers['linear_2'] = nn.Linear(num_hidden_layers, 1)\n",
    "#         self.layers['dropout_1'] = nn.Dropout(dropout_1)\n",
    "#         self.layers['dropout_2'] = nn.Dropout(dropout_2)\n",
    "        \n",
    "#     def forward(self, cats, foo):\n",
    "#         users = cats[:,0]\n",
    "#         items = cats[:,1]\n",
    "#         x = self.layers['dropout_1'](torch.cat([self.users(users), self.items(items)], dim=1))\n",
    "#         x = self.layers['dropout_2'](F.relu(self.layers['linear_1'](x)))\n",
    "#         return F.sigmoid(self.layers['linear_2'](x)) * (max_rating - min_rating + 1) + min_rating + 0.5\n",
    "\n",
    "class EmbeddingNet(nn.Module):\n",
    "    def __init__(self, num_users, num_items, num_hidden_layers=10, dropout_1=0.05, dropout_2=0.5):\n",
    "        super().__init__()\n",
    "        self.users = get_embedding(num_users, n_factors)\n",
    "        self.items = get_embedding(num_items, n_factors)\n",
    "        self.layers = {}\n",
    "        self.linear_1 = nn.Linear(n_factors * 2, num_hidden_layers)\n",
    "        self.linear_2 = nn.Linear(num_hidden_layers, 1)\n",
    "        self.dropout_1 = nn.Dropout(dropout_1)\n",
    "        self.dropout_2 = nn.Dropout(dropout_2)\n",
    "        \n",
    "    def forward(self, cats, foo):\n",
    "        users = cats[:,0]\n",
    "        items = cats[:,1]\n",
    "        x = self.dropout_1(torch.cat([self.users(users), self.items(items)], dim=1))\n",
    "        x = self.dropout_2(F.relu(self.linear_1(x)))\n",
    "        return F.sigmoid(self.linear_2(x)) * (max_rating - min_rating + 1) + min_rating + 0.5"
   ]
  },
  {
   "cell_type": "code",
   "execution_count": 107,
   "metadata": {},
   "outputs": [],
   "source": [
    "weight_decay = 1e-5\n",
    "model = EmbeddingNet(cf.n_users, cf.n_items).cuda()\n",
    "optimization_function = optim.Adam(model.parameters(), 1e-3, weight_decay=weight_decay)"
   ]
  },
  {
   "cell_type": "code",
   "execution_count": 109,
   "metadata": {},
   "outputs": [
    {
     "data": {
      "application/vnd.jupyter.widget-view+json": {
       "model_id": "def9e16704db4f7c9b50cdbe29e9a049",
       "version_major": 2,
       "version_minor": 0
      },
      "text/plain": [
       "HBox(children=(IntProgress(value=0, description='Epoch', max=3), HTML(value='')))"
      ]
     },
     "metadata": {},
     "output_type": "display_data"
    },
    {
     "name": "stdout",
     "output_type": "stream",
     "text": [
      "epoch      trn_loss   val_loss                                  \n",
      "    0      0.812726   0.790184  \n",
      "    1      0.741602   0.792036                                  \n",
      "    2      0.761467   0.795047                                  \n",
      "\n"
     ]
    },
    {
     "data": {
      "text/plain": [
       "[array([0.79505])]"
      ]
     },
     "execution_count": 109,
     "metadata": {},
     "output_type": "execute_result"
    }
   ],
   "source": [
    "fit(model, data, 3, optimization_function, F.mse_loss)"
   ]
  },
  {
   "cell_type": "code",
   "execution_count": null,
   "metadata": {},
   "outputs": [],
   "source": []
  }
 ],
 "metadata": {
  "kernelspec": {
   "display_name": "Python 3",
   "language": "python",
   "name": "python3"
  },
  "language_info": {
   "codemirror_mode": {
    "name": "ipython",
    "version": 3
   },
   "file_extension": ".py",
   "mimetype": "text/x-python",
   "name": "python",
   "nbconvert_exporter": "python",
   "pygments_lexer": "ipython3",
   "version": "3.6.5"
  }
 },
 "nbformat": 4,
 "nbformat_minor": 2
}
